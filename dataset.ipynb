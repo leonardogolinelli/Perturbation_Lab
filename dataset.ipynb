{
 "cells": [
  {
   "cell_type": "code",
   "execution_count": null,
   "metadata": {},
   "outputs": [],
   "source": [
    "from dataset import base_genes\n",
    "import numpy as np\n",
    "from scipy.stats import nbinom"
   ]
  },
  {
   "cell_type": "code",
   "execution_count": null,
   "metadata": {},
   "outputs": [],
   "source": [
    "n_cells=10000\n",
    "n_genes=5\n",
    "target_zero_prob=.8"
   ]
  },
  {
   "cell_type": "code",
   "execution_count": 112,
   "metadata": {},
   "outputs": [
    {
     "name": "stdout",
     "output_type": "stream",
     "text": [
      "Actual overall zero proportion: 0.8007\n"
     ]
    }
   ],
   "source": [
    "x, mu_values, theta_values, pi_values = base_genes(n_cells=n_cells, \n",
    "                                                    n_genes=n_genes, \n",
    "                                                    target_zero_prob=target_zero_prob, \n",
    "                                                    mu_bot=1.0, \n",
    "                                                    mu_top=10, \n",
    "                                                    theta_bot=0.5, \n",
    "                                                    theta_top=2.0,\n",
    "                                                    seed=42)"
   ]
  },
  {
   "cell_type": "code",
   "execution_count": 113,
   "metadata": {},
   "outputs": [],
   "source": [
    "np.random.seed(42)\n",
    "mean_weights = np.random.uniform(-2, +2, n_genes)\n",
    "mu = np.average(x, axis=1, weights=mean_weights) #mean of ZINB\n",
    "mu = np.clip(mu, 0.1, None)\n",
    "\n",
    "np.random.seed(11)\n",
    "mean_dispersion = np.random.uniform(-2, +2, n_genes)\n",
    "theta = np.average(x, axis=1, weights=mean_weights) #dispersion of ZINB\n",
    "theta = np.clip(theta, 0.1, None)"
   ]
  },
  {
   "cell_type": "code",
   "execution_count": 114,
   "metadata": {},
   "outputs": [
    {
     "data": {
      "text/plain": [
       "(10000,)"
      ]
     },
     "execution_count": 114,
     "metadata": {},
     "output_type": "execute_result"
    }
   ],
   "source": [
    "r = 1 / theta  \n",
    "\n",
    "# Scipy-compatible NB probability\n",
    "p = r / (r + mu)\n",
    "\n",
    "# Compute probability of zero from NB\n",
    "p_nb_zero = nbinom.pmf(0, r, p)\n",
    "\n",
    "# Solve for pi to match target overall zero probability\n",
    "pi = (target_zero_prob - p_nb_zero) / (1 - p_nb_zero)\n",
    "pi = np.clip(pi, 0, 1)  # Ensure it's within [0,1]\n",
    "\n",
    "# Simulate NB samples\n",
    "nb_samples = nbinom.rvs(r, p, size=n_cells)\n",
    "\n",
    "# Apply zero-inflation\n",
    "zero_mask = np.random.binomial(1, pi, size=n_cells)\n",
    "nb_samples[zero_mask == 1] = 0\n",
    "\n",
    "x_comb = nb_samples\n",
    "x_comb.shape"
   ]
  },
  {
   "cell_type": "code",
   "execution_count": 116,
   "metadata": {},
   "outputs": [],
   "source": [
    "tile_up = lambda x : np.tile(x, (n_cells, 1))\n",
    "mu_values, theta_values, pi_values = [tile_up(arr) for arr in [mu_values, theta_values, pi_values]]"
   ]
  },
  {
   "cell_type": "code",
   "execution_count": 125,
   "metadata": {},
   "outputs": [],
   "source": [
    "stack_up = lambda x,y : np.hstack((x,y.reshape((n_cells,1))))\n",
    "pairs = [(x, x_comb), (mu_values, mu), (theta_values, theta), (pi_values, pi)]\n",
    "x, mu_values, theta_values, pi_values = [stack_up(x,y) for x,y in pairs]"
   ]
  },
  {
   "cell_type": "code",
   "execution_count": null,
   "metadata": {},
   "outputs": [],
   "source": []
  }
 ],
 "metadata": {
  "kernelspec": {
   "display_name": "scvi",
   "language": "python",
   "name": "python3"
  },
  "language_info": {
   "codemirror_mode": {
    "name": "ipython",
    "version": 3
   },
   "file_extension": ".py",
   "mimetype": "text/x-python",
   "name": "python",
   "nbconvert_exporter": "python",
   "pygments_lexer": "ipython3",
   "version": "3.12.9"
  }
 },
 "nbformat": 4,
 "nbformat_minor": 2
}
