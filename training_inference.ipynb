{
 "cells": [
  {
   "cell_type": "code",
   "execution_count": null,
   "metadata": {},
   "outputs": [],
   "source": [
    "import torch\n",
    "import torch.functional as F"
   ]
  },
  {
   "cell_type": "code",
   "execution_count": null,
   "metadata": {},
   "outputs": [],
   "source": [
    "def train(vae, optimizer, x, true_mu_tensor, true_theta_tensor, true_pi_tensor):\n",
    "    \"\"\"\n",
    "    Train the VAE model.\n",
    "    \n",
    "    Parameters:\n",
    "        vae (VAE): The VAE model to train.\n",
    "        optimizer (torch.optim.Optimizer): The optimizer for training.\n",
    "        x (torch.Tensor): The input data.\n",
    "        true_mu_tensor (torch.Tensor): The true mean tensor.\n",
    "        true_theta_tensor (torch.Tensor): The true theta tensor.\n",
    "        true_pi_tensor (torch.Tensor): The true pi tensor.\n",
    "    \"\"\"\n",
    "    \n",
    "    vae.train()\n",
    "    for epoch in range(1000):\n",
    "        optimizer.zero_grad()\n",
    "        mean, disp, pi, mu, logvar, z = vae(x)\n",
    "        loss = vae.loss_function(x, mean, disp, pi, mu, logvar)\n",
    "        loss.backward()\n",
    "        optimizer.step()\n",
    "        #print(f\"Epoch {epoch}, Loss: {loss.item():.4f}\")\n",
    "        \n",
    "        with torch.no_grad():\n",
    "            mean_mse = F.mse_loss(mean, true_mu_tensor).item()\n",
    "            theta_mse = F.mse_loss(disp, true_theta_tensor).item()\n",
    "            pi_mse = F.mse_loss(pi, true_pi_tensor).item()\n",
    "\n",
    "            print(f\"Epoch {epoch}, Loss: {loss.item():.4f}, Mean MSE: {mean_mse:.4f}, Theta MSE: {theta_mse:.4f}, Pi MSE: {pi_mse:.4f}\")\n",
    "\n",
    "    return mean, disp, pi, mu, logvar, z"
   ]
  },
  {
   "cell_type": "code",
   "execution_count": null,
   "metadata": {},
   "outputs": [],
   "source": [
    "def train(vae, optimizer, x, true_mu_tensor, true_theta_tensor, true_pi_tensor):\n",
    "    \"\"\"\n",
    "    Train the VAE model.\n",
    "    \n",
    "    Parameters:\n",
    "        vae (VAE): The VAE model to train.\n",
    "        optimizer (torch.optim.Optimizer): The optimizer for training.\n",
    "        x (torch.Tensor): The input data.\n",
    "        true_mu_tensor (torch.Tensor): The true mean tensor.\n",
    "        true_theta_tensor (torch.Tensor): The true theta tensor.\n",
    "        true_pi_tensor (torch.Tensor): The true pi tensor.\n",
    "    \"\"\"\n",
    "    \n",
    "    vae.train()\n",
    "    for epoch in range(1000):\n",
    "        optimizer.zero_grad()\n",
    "        mean, disp, pi, mu, logvar, z = vae(x)\n",
    "        loss = vae.loss_function(x, mean, disp, pi, mu, logvar)\n",
    "        loss.backward()\n",
    "        optimizer.step()\n",
    "        #print(f\"Epoch {epoch}, Loss: {loss.item():.4f}\")\n",
    "        \n",
    "        with torch.no_grad():\n",
    "            mean_mse = F.mse_loss(mean, true_mu_tensor).item()\n",
    "            theta_mse = F.mse_loss(disp, true_theta_tensor).item()\n",
    "            pi_mse = F.mse_loss(pi, true_pi_tensor).item()\n",
    "\n",
    "            print(f\"Epoch {epoch}, Loss: {loss.item():.4f}, Mean MSE: {mean_mse:.4f}, Theta MSE: {theta_mse:.4f}, Pi MSE: {pi_mse:.4f}\")\n",
    "\n",
    "    return mean, disp, pi, mu, logvar, z"
   ]
  }
 ],
 "metadata": {
  "language_info": {
   "name": "python"
  }
 },
 "nbformat": 4,
 "nbformat_minor": 2
}
